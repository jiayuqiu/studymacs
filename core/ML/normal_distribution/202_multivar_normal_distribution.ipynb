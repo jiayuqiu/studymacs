{
 "cells": [
  {
   "cell_type": "markdown",
   "metadata": {},
   "source": [
    "# 多变量正态分布\n",
    "\n",
    "![多变量正态分布](../imgs/多元正态分布.png)"
   ]
  },
  {
   "cell_type": "code",
   "execution_count": 6,
   "metadata": {},
   "outputs": [
    {
     "name": "stdout",
     "output_type": "stream",
     "text": [
      "mean: [5.84333333 3.05733333 3.758      1.19933333]\n",
      "cov: [[ 0.68569351 -0.042434    1.27431544  0.51627069]\n",
      " [-0.042434    0.18997942 -0.32965638 -0.12163937]\n",
      " [ 1.27431544 -0.32965638  3.11627785  1.2956094 ]\n",
      " [ 0.51627069 -0.12163937  1.2956094   0.58100626]]\n"
     ]
    }
   ],
   "source": [
    "import numpy as np\n",
    "import scipy.stats as stats\n",
    "import matplotlib.pyplot as plt\n",
    "\n",
    "from sklearn.datasets import load_iris\n",
    "\n",
    "iris = load_iris()\n",
    "iris_mean = np.mean(iris.data, axis=0)\n",
    "print(f\"mean: {iris_mean}\")\n",
    "\n",
    "iris_cov = np.cov(iris.data, rowvar=False)\n",
    "print(f\"cov: {iris_cov}\")\n",
    "\n",
    "# make multvar normal\n",
    "rv = stats.multivariate_normal(mean=iris_mean, cov=iris_cov)"
   ]
  },
  {
   "cell_type": "code",
   "execution_count": 11,
   "metadata": {},
   "outputs": [
    {
     "name": "stdout",
     "output_type": "stream",
     "text": [
      "min_p = 0.1992139036596552\n",
      "min_p = 0.13935905872141244\n",
      "min_p = 0.08308833068978592\n",
      "min_p = 0.007336441536300106\n",
      "min_p = 0.004505136339625371\n",
      "min_p = 0.0019147722974984633\n",
      "min_p = 0.0009560706291737116\n",
      "min_p = 0.0008278418362779197\n"
     ]
    }
   ],
   "source": [
    "min_p = 1.\n",
    "\n",
    "for row in iris.data:\n",
    "    _p = rv.pdf(row)\n",
    "    if min_p > _p:\n",
    "        min_p = _p\n",
    "        print(f\"min_p = {min_p}\")"
   ]
  }
 ],
 "metadata": {
  "interpreter": {
   "hash": "afc7b3e75c58cf6622f645425936da18d5ac2831d2f04ed81c6726a99e5df2f6"
  },
  "kernelspec": {
   "display_name": "Python 3.8.5 64-bit ('base': conda)",
   "name": "python3"
  },
  "language_info": {
   "codemirror_mode": {
    "name": "ipython",
    "version": 3
   },
   "file_extension": ".py",
   "mimetype": "text/x-python",
   "name": "python",
   "nbconvert_exporter": "python",
   "pygments_lexer": "ipython3",
   "version": "3.8.5"
  },
  "orig_nbformat": 4
 },
 "nbformat": 4,
 "nbformat_minor": 2
}